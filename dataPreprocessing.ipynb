{
 "cells": [
  {
   "cell_type": "code",
   "execution_count": 1,
   "metadata": {},
   "outputs": [
    {
     "name": "stdout",
     "output_type": "stream",
     "text": [
      "The labels assigned are:  {'without_mask': 0, 'with_mask': 1}\n"
     ]
    }
   ],
   "source": [
    "# First I convert all images to grayscale as color is not a necessary feature for detecting masks\n",
    "import cv2, os\n",
    "import numpy as np\n",
    "import tensorflow as tf\n",
    "\n",
    "datapath = 'E:\\Coursework Repo\\Kaggle\\Datasets\\observations-master\\observations-master\\experiements\\data'\n",
    "categories = os.listdir(datapath) # categories are with_mask and without_mask\n",
    "labels = [i for i in range(len(categories))] #0 and 1 are the labels. This will be the output of the NN\n",
    "\n",
    "label_dict = dict(zip(categories, labels)) # with_mark is assigned 0 in dictionary, without_mask:1 \n",
    "\n",
    "print(\"The labels assigned are: \",label_dict)"
   ]
  },
  {
   "cell_type": "code",
   "execution_count": 2,
   "metadata": {},
   "outputs": [],
   "source": [
    "# Next we resize all images into 100x100 for uniformity\n",
    "img_size = 100\n",
    "target = [] #Save labels\n",
    "data = [] # Gray and resized Images stored \n",
    "\n",
    "for category in categories:\n",
    "    folder_path = os.path.join(datapath, category) # like dataset/with_mask and dataset/without_mask\n",
    "    img_names = os.listdir(folder_path)\n",
    "\n",
    "    # Load all images\n",
    "    for img_name in img_names:\n",
    "        img_path = os.path.join(folder_path, img_name) # dataset/with_mask/1-with-mask.jpg\n",
    "        img = cv2.imread(img_path)\n",
    "\n",
    "        try:\n",
    "            gray = cv2.cvtColor(img, cv2.COLOR_BGR2GRAY) # Colored img to grayscale\n",
    "            resized_img = cv2.resize(gray, (img_size,img_size)) # 100x100 image formed\n",
    "            data.append(resized_img)\n",
    "            target.append(label_dict[category]) # Append 0 or 1 \n",
    "        \n",
    "        except Exception as e:\n",
    "            print(\"Error occured: \", e)"
   ]
  },
  {
   "cell_type": "code",
   "execution_count": 3,
   "metadata": {},
   "outputs": [
    {
     "name": "stderr",
     "output_type": "stream",
     "text": [
      "Using TensorFlow backend.\n"
     ]
    }
   ],
   "source": [
    "data = np.array(data) / 255 # Normalize the images - All pixel values converted to 0-1 range\n",
    "data = np.reshape(data, (data.shape[0], img_size, img_size, 1)) # Last 1 is for grayscale. Compulsory before feeding to NN. \n",
    "# Check out CNN using TF and Keras repo of mine https://github.com/HariAcidReign/DS-and-ML-Resources/blob/master/CNN%20using%20TF%20and%20Keras.ipynb\n",
    "# NN needs a 4D array so we reshaped it\n",
    "target = np.array(target)\n",
    "\n",
    "from keras.utils import np_utils\n",
    "new_target = np_utils.to_categorical(target) # 2 final neurons (with and without mask)\n",
    "\n",
    "np.save('data', data)\n",
    "np.save('target', new_target)"
   ]
  },
  {
   "cell_type": "code",
   "execution_count": null,
   "metadata": {},
   "outputs": [],
   "source": []
  }
 ],
 "metadata": {
  "kernelspec": {
   "display_name": "Python 3",
   "language": "python",
   "name": "python3"
  },
  "language_info": {
   "codemirror_mode": {
    "name": "ipython",
    "version": 3
   },
   "file_extension": ".py",
   "mimetype": "text/x-python",
   "name": "python",
   "nbconvert_exporter": "python",
   "pygments_lexer": "ipython3",
   "version": "3.7.7"
  }
 },
 "nbformat": 4,
 "nbformat_minor": 4
}
